{
 "cells": [
  {
   "cell_type": "markdown",
   "metadata": {},
   "source": [
    "# My take on the Titanic ML Problem\n",
    "\n",
    "> My take on the iconic Titanic ML introduction\n",
    "\n",
    "\n",
    "- toc: true \n",
    "- badges: false\n",
    "- comments: true\n",
    "- categories: [kaggle]\n",
    "- image: images/titanic.jpg"
   ]
  },
  {
   "cell_type": "markdown",
   "metadata": {},
   "source": [
    "This is my take on machine learning for the iconic Titanic ML dataset. Purpose is not in accuracy of predictions, but rather as a refresher to the different data analysis technique and to the different ML techniques.\n",
    "Will come back from time to time to refresh the techniques used as I become more familiar with data science and machine learning!\n",
    "\n"
   ]
  },
  {
   "cell_type": "markdown",
   "metadata": {},
   "source": [
    "## Literature\n",
    "\n",
    "Data was obtained as part of the introductory machine learning \"competition\" in [Kaggle](https://www.kaggle.com/competitions/titanic). To say that it is a competition is an overstatement; Rather, it is more of a tutorial to the kaggle ecosystem and submission. \n",
    "In this challenge, the problem statement was to develop a predictive model that answers: \"what sorts of people were more likely to survive?\" in the Titanic disaster."
   ]
  },
  {
   "cell_type": "markdown",
   "metadata": {},
   "source": [
    "## Exploratory Data Analysis"
   ]
  },
  {
   "cell_type": "code",
   "execution_count": 35,
   "metadata": {},
   "outputs": [],
   "source": [
    "import pandas as pd\n",
    "import numpy as np\n",
    "training = pd.read_csv('train.csv')\n",
    "test = pd.read_csv('test.csv')"
   ]
  },
  {
   "cell_type": "code",
   "execution_count": 36,
   "metadata": {},
   "outputs": [
    {
     "name": "stdout",
     "output_type": "stream",
     "text": [
      "<class 'pandas.core.frame.DataFrame'>\n",
      "RangeIndex: 891 entries, 0 to 890\n",
      "Data columns (total 12 columns):\n",
      " #   Column       Non-Null Count  Dtype  \n",
      "---  ------       --------------  -----  \n",
      " 0   PassengerId  891 non-null    int64  \n",
      " 1   Survived     891 non-null    int64  \n",
      " 2   Pclass       891 non-null    int64  \n",
      " 3   Name         891 non-null    object \n",
      " 4   Sex          891 non-null    object \n",
      " 5   Age          714 non-null    float64\n",
      " 6   SibSp        891 non-null    int64  \n",
      " 7   Parch        891 non-null    int64  \n",
      " 8   Ticket       891 non-null    object \n",
      " 9   Fare         891 non-null    float64\n",
      " 10  Cabin        204 non-null    object \n",
      " 11  Embarked     889 non-null    object \n",
      "dtypes: float64(2), int64(5), object(5)\n",
      "memory usage: 83.7+ KB\n"
     ]
    }
   ],
   "source": [
    "training.info()"
   ]
  },
  {
   "cell_type": "markdown",
   "metadata": {},
   "source": [
    "Here are the variables and their types in order of appearances\n",
    "- PassengerId are unique integer values. We will be dropping this column\n",
    "- Survived,Pclass,Sex,Embarked are categorical variables\n",
    "- Names are the names of the passengers. We could be able to perform some feature engineering based on their titles in the names\n",
    "- Age and Fare are continouous values\n",
    "- SibSp and Parch are integer values with discrete counts\n",
    "- Ticket and Cabin are the ticket numbers and cabin numbers. Ticket numbers will be dropped. As for Cabin, We may be able to use the cabin numbers to determine if their cabins of stay are near to emergency lifeboat points. In the Titanic, the first letter of the cabin number indicates the classes, with A Deck belonging to higher class passengers (and nearer to the top deck) and F Deck at the bottom. However, due to the number of missing values (more than 50% missing), I will be dropping Cabin. \n"
   ]
  },
  {
   "cell_type": "code",
   "execution_count": 37,
   "metadata": {},
   "outputs": [
    {
     "data": {
      "text/html": [
       "<div>\n",
       "<style scoped>\n",
       "    .dataframe tbody tr th:only-of-type {\n",
       "        vertical-align: middle;\n",
       "    }\n",
       "\n",
       "    .dataframe tbody tr th {\n",
       "        vertical-align: top;\n",
       "    }\n",
       "\n",
       "    .dataframe thead th {\n",
       "        text-align: right;\n",
       "    }\n",
       "</style>\n",
       "<table border=\"1\" class=\"dataframe\">\n",
       "  <thead>\n",
       "    <tr style=\"text-align: right;\">\n",
       "      <th></th>\n",
       "      <th>PassengerId</th>\n",
       "      <th>Survived</th>\n",
       "      <th>Pclass</th>\n",
       "      <th>Age</th>\n",
       "      <th>SibSp</th>\n",
       "      <th>Parch</th>\n",
       "      <th>Fare</th>\n",
       "    </tr>\n",
       "  </thead>\n",
       "  <tbody>\n",
       "    <tr>\n",
       "      <th>count</th>\n",
       "      <td>891.000000</td>\n",
       "      <td>891.000000</td>\n",
       "      <td>891.000000</td>\n",
       "      <td>714.000000</td>\n",
       "      <td>891.000000</td>\n",
       "      <td>891.000000</td>\n",
       "      <td>891.000000</td>\n",
       "    </tr>\n",
       "    <tr>\n",
       "      <th>mean</th>\n",
       "      <td>446.000000</td>\n",
       "      <td>0.383838</td>\n",
       "      <td>2.308642</td>\n",
       "      <td>29.699118</td>\n",
       "      <td>0.523008</td>\n",
       "      <td>0.381594</td>\n",
       "      <td>32.204208</td>\n",
       "    </tr>\n",
       "    <tr>\n",
       "      <th>std</th>\n",
       "      <td>257.353842</td>\n",
       "      <td>0.486592</td>\n",
       "      <td>0.836071</td>\n",
       "      <td>14.526497</td>\n",
       "      <td>1.102743</td>\n",
       "      <td>0.806057</td>\n",
       "      <td>49.693429</td>\n",
       "    </tr>\n",
       "    <tr>\n",
       "      <th>min</th>\n",
       "      <td>1.000000</td>\n",
       "      <td>0.000000</td>\n",
       "      <td>1.000000</td>\n",
       "      <td>0.420000</td>\n",
       "      <td>0.000000</td>\n",
       "      <td>0.000000</td>\n",
       "      <td>0.000000</td>\n",
       "    </tr>\n",
       "    <tr>\n",
       "      <th>25%</th>\n",
       "      <td>223.500000</td>\n",
       "      <td>0.000000</td>\n",
       "      <td>2.000000</td>\n",
       "      <td>20.125000</td>\n",
       "      <td>0.000000</td>\n",
       "      <td>0.000000</td>\n",
       "      <td>7.910400</td>\n",
       "    </tr>\n",
       "    <tr>\n",
       "      <th>50%</th>\n",
       "      <td>446.000000</td>\n",
       "      <td>0.000000</td>\n",
       "      <td>3.000000</td>\n",
       "      <td>28.000000</td>\n",
       "      <td>0.000000</td>\n",
       "      <td>0.000000</td>\n",
       "      <td>14.454200</td>\n",
       "    </tr>\n",
       "    <tr>\n",
       "      <th>75%</th>\n",
       "      <td>668.500000</td>\n",
       "      <td>1.000000</td>\n",
       "      <td>3.000000</td>\n",
       "      <td>38.000000</td>\n",
       "      <td>1.000000</td>\n",
       "      <td>0.000000</td>\n",
       "      <td>31.000000</td>\n",
       "    </tr>\n",
       "    <tr>\n",
       "      <th>max</th>\n",
       "      <td>891.000000</td>\n",
       "      <td>1.000000</td>\n",
       "      <td>3.000000</td>\n",
       "      <td>80.000000</td>\n",
       "      <td>8.000000</td>\n",
       "      <td>6.000000</td>\n",
       "      <td>512.329200</td>\n",
       "    </tr>\n",
       "  </tbody>\n",
       "</table>\n",
       "</div>"
      ],
      "text/plain": [
       "       PassengerId    Survived      Pclass         Age       SibSp  \\\n",
       "count   891.000000  891.000000  891.000000  714.000000  891.000000   \n",
       "mean    446.000000    0.383838    2.308642   29.699118    0.523008   \n",
       "std     257.353842    0.486592    0.836071   14.526497    1.102743   \n",
       "min       1.000000    0.000000    1.000000    0.420000    0.000000   \n",
       "25%     223.500000    0.000000    2.000000   20.125000    0.000000   \n",
       "50%     446.000000    0.000000    3.000000   28.000000    0.000000   \n",
       "75%     668.500000    1.000000    3.000000   38.000000    1.000000   \n",
       "max     891.000000    1.000000    3.000000   80.000000    8.000000   \n",
       "\n",
       "            Parch        Fare  \n",
       "count  891.000000  891.000000  \n",
       "mean     0.381594   32.204208  \n",
       "std      0.806057   49.693429  \n",
       "min      0.000000    0.000000  \n",
       "25%      0.000000    7.910400  \n",
       "50%      0.000000   14.454200  \n",
       "75%      0.000000   31.000000  \n",
       "max      6.000000  512.329200  "
      ]
     },
     "execution_count": 37,
     "metadata": {},
     "output_type": "execute_result"
    }
   ],
   "source": [
    "training.describe()"
   ]
  },
  {
   "cell_type": "markdown",
   "metadata": {},
   "source": [
    "\n",
    "Age seems to be pretty well distributed among all passengers, with some outliers for Fares. Let us take a look at the distributions of the variables"
   ]
  },
  {
   "cell_type": "code",
   "execution_count": 38,
   "metadata": {},
   "outputs": [],
   "source": [
    "import seaborn as sns\n",
    "import matplotlib.pyplot as plt"
   ]
  },
  {
   "cell_type": "code",
   "execution_count": 39,
   "metadata": {},
   "outputs": [
    {
     "name": "stderr",
     "output_type": "stream",
     "text": [
      "No artists with labels found to put in legend.  Note that artists whose label start with an underscore are ignored when legend() is called with no argument.\n"
     ]
    },
    {
     "data": {
      "image/png": "[encoded data removed]",
      "text/plain": [
       "<Figure size 1440x1080 with 6 Axes>"
      ]
     },
     "metadata": {
      "needs_background": "light"
     },
     "output_type": "display_data"
    }
   ],
   "source": [
    "fig,ax = plt.subplots(2,3,figsize=(20,15))\n",
    "sns.countplot(data=training,x='Survived',ax=ax[0][0])\n",
    "sns.countplot(data=training,x='Pclass',hue='Survived',ax=ax[0][1])\n",
    "sns.countplot(data=training,x='Sex',hue='Survived',ax=ax[0][2])\n",
    "sns.countplot(data=training,x='SibSp',hue='Survived',ax=ax[1][0])\n",
    "sns.countplot(data=training,x='Parch',hue='Survived',ax=ax[1][1])\n",
    "sns.countplot(data=training,x='Embarked',hue='Survived',ax=ax[1][2])\n",
    "for axes in ax:\n",
    "    for a in axes:\n",
    "        a.legend(loc=1,title='Survived')\n"
   ]
  },
  {
   "cell_type": "markdown",
   "metadata": {},
   "source": [
    "Tried to plot all categorical variables by count, with 'Survived' as the hue. From the first plot, majority of people did not survive. Going through the different variables, we can see that following interesting features:\n",
    "\n",
    "- Most people in better Pclass have a higher survival rate (% of survived in Pclass of 1 > 2 > 3)\n",
    "- More females survived than males\n",
    "- Those with SibSp of 1 have the highest survival rate \n",
    "- Those with Parch of 1 have the highest survival rate \n",
    "- Those who embarked from C=Cherburg have a higher survival rate, followed by Q=Queenstown and S=Southampton. FYI, sequence of port calls was from Southampton > Cherburg > Queenstown.\n",
    "\n",
    "Let us try to take a look at the continuous features, Age and Fares."
   ]
  },
  {
   "cell_type": "code",
   "execution_count": 40,
   "metadata": {},
   "outputs": [
    {
     "data": {
      "text/plain": [
       "<seaborn.axisgrid.PairGrid at 0x24e2d1cf160>"
      ]
     },
     "execution_count": 40,
     "metadata": {},
     "output_type": "execute_result"
    },
    {
     "data": {
      "image/png": "[encoded data removed]",
      "text/plain": [
       "<Figure size 411.875x360 with 6 Axes>"
      ]
     },
     "metadata": {
      "needs_background": "light"
     },
     "output_type": "display_data"
    }
   ],
   "source": [
    "sns.pairplot(data=training[['Age','Survived','Fare']],hue='Survived',plot_kws={'alpha':0.7})"
   ]
  },
  {
   "cell_type": "code",
   "execution_count": 41,
   "metadata": {},
   "outputs": [
    {
     "data": {
      "text/html": [
       "<div>\n",
       "<style scoped>\n",
       "    .dataframe tbody tr th:only-of-type {\n",
       "        vertical-align: middle;\n",
       "    }\n",
       "\n",
       "    .dataframe tbody tr th {\n",
       "        vertical-align: top;\n",
       "    }\n",
       "\n",
       "    .dataframe thead th {\n",
       "        text-align: right;\n",
       "    }\n",
       "</style>\n",
       "<table border=\"1\" class=\"dataframe\">\n",
       "  <thead>\n",
       "    <tr style=\"text-align: right;\">\n",
       "      <th></th>\n",
       "      <th>PassengerId</th>\n",
       "      <th>Survived</th>\n",
       "      <th>Pclass</th>\n",
       "      <th>Age</th>\n",
       "      <th>SibSp</th>\n",
       "      <th>Parch</th>\n",
       "      <th>Fare</th>\n",
       "    </tr>\n",
       "  </thead>\n",
       "  <tbody>\n",
       "    <tr>\n",
       "      <th>PassengerId</th>\n",
       "      <td>1.000000</td>\n",
       "      <td>-0.005007</td>\n",
       "      <td>-0.035144</td>\n",
       "      <td>0.036847</td>\n",
       "      <td>-0.057527</td>\n",
       "      <td>-0.001652</td>\n",
       "      <td>0.012658</td>\n",
       "    </tr>\n",
       "    <tr>\n",
       "      <th>Survived</th>\n",
       "      <td>-0.005007</td>\n",
       "      <td>1.000000</td>\n",
       "      <td>-0.338481</td>\n",
       "      <td>-0.077221</td>\n",
       "      <td>-0.035322</td>\n",
       "      <td>0.081629</td>\n",
       "      <td>0.257307</td>\n",
       "    </tr>\n",
       "    <tr>\n",
       "      <th>Pclass</th>\n",
       "      <td>-0.035144</td>\n",
       "      <td>-0.338481</td>\n",
       "      <td>1.000000</td>\n",
       "      <td>-0.369226</td>\n",
       "      <td>0.083081</td>\n",
       "      <td>0.018443</td>\n",
       "      <td>-0.549500</td>\n",
       "    </tr>\n",
       "    <tr>\n",
       "      <th>Age</th>\n",
       "      <td>0.036847</td>\n",
       "      <td>-0.077221</td>\n",
       "      <td>-0.369226</td>\n",
       "      <td>1.000000</td>\n",
       "      <td>-0.308247</td>\n",
       "      <td>-0.189119</td>\n",
       "      <td>0.096067</td>\n",
       "    </tr>\n",
       "    <tr>\n",
       "      <th>SibSp</th>\n",
       "      <td>-0.057527</td>\n",
       "      <td>-0.035322</td>\n",
       "      <td>0.083081</td>\n",
       "      <td>-0.308247</td>\n",
       "      <td>1.000000</td>\n",
       "      <td>0.414838</td>\n",
       "      <td>0.159651</td>\n",
       "    </tr>\n",
       "    <tr>\n",
       "      <th>Parch</th>\n",
       "      <td>-0.001652</td>\n",
       "      <td>0.081629</td>\n",
       "      <td>0.018443</td>\n",
       "      <td>-0.189119</td>\n",
       "      <td>0.414838</td>\n",
       "      <td>1.000000</td>\n",
       "      <td>0.216225</td>\n",
       "    </tr>\n",
       "    <tr>\n",
       "      <th>Fare</th>\n",
       "      <td>0.012658</td>\n",
       "      <td>0.257307</td>\n",
       "      <td>-0.549500</td>\n",
       "      <td>0.096067</td>\n",
       "      <td>0.159651</td>\n",
       "      <td>0.216225</td>\n",
       "      <td>1.000000</td>\n",
       "    </tr>\n",
       "  </tbody>\n",
       "</table>\n",
       "</div>"
      ],
      "text/plain": [
       "             PassengerId  Survived    Pclass       Age     SibSp     Parch  \\\n",
       "PassengerId     1.000000 -0.005007 -0.035144  0.036847 -0.057527 -0.001652   \n",
       "Survived       -0.005007  1.000000 -0.338481 -0.077221 -0.035322  0.081629   \n",
       "Pclass         -0.035144 -0.338481  1.000000 -0.369226  0.083081  0.018443   \n",
       "Age             0.036847 -0.077221 -0.369226  1.000000 -0.308247 -0.189119   \n",
       "SibSp          -0.057527 -0.035322  0.083081 -0.308247  1.000000  0.414838   \n",
       "Parch          -0.001652  0.081629  0.018443 -0.189119  0.414838  1.000000   \n",
       "Fare            0.012658  0.257307 -0.549500  0.096067  0.159651  0.216225   \n",
       "\n",
       "                 Fare  \n",
       "PassengerId  0.012658  \n",
       "Survived     0.257307  \n",
       "Pclass      -0.549500  \n",
       "Age          0.096067  \n",
       "SibSp        0.159651  \n",
       "Parch        0.216225  \n",
       "Fare         1.000000  "
      ]
     },
     "execution_count": 41,
     "metadata": {},
     "output_type": "execute_result"
    }
   ],
   "source": [
    "training.corr()"
   ]
  },
  {
   "cell_type": "markdown",
   "metadata": {},
   "source": [
    "Does not seem to have any strong correlations between 'Survived', 'Age' and 'Fare'"
   ]
  },
  {
   "cell_type": "markdown",
   "metadata": {},
   "source": [
    "## Feature Engineering\n",
    "\n",
    "We can further improve the model by adding in feature. For example, we could probably include the titles of each person as a feature. We can extract the titles of each person from their name using regular expressions\n"
   ]
  },
  {
   "cell_type": "code",
   "execution_count": 42,
   "metadata": {},
   "outputs": [
    {
     "data": {
      "text/plain": [
       "Mr          517\n",
       "Miss        182\n",
       "Mrs         125\n",
       "Master       40\n",
       "Dr            7\n",
       "Rev           6\n",
       "Mlle          2\n",
       "Major         2\n",
       "Col           2\n",
       "NaN           1\n",
       "Capt          1\n",
       "Ms            1\n",
       "Sir           1\n",
       "Lady          1\n",
       "Mme           1\n",
       "Don           1\n",
       "Jonkheer      1\n",
       "Name: Title_Name, dtype: int64"
      ]
     },
     "execution_count": 42,
     "metadata": {},
     "output_type": "execute_result"
    }
   ],
   "source": [
    "import re\n",
    "training['Title_Name']=training['Name'].str.extract(r',\\s(\\w+)\\.',flags=re.IGNORECASE)\n",
    "training['Title_Name'].value_counts(dropna=False) #all titles"
   ]
  },
  {
   "cell_type": "markdown",
   "metadata": {},
   "source": [
    "A quick search shows that some of the more obscure abbreviations are french titles:\n",
    "- Mlle = mademoiselle\n",
    "- Mme = Madame\n",
    "\n",
    "We will be replace Mlle with Miss, Mme with Mrs. Also, to minimise the number of categories, we will be grouping all other categories after top 5 categories as 'Others'"
   ]
  },
  {
   "cell_type": "code",
   "execution_count": 43,
   "metadata": {},
   "outputs": [],
   "source": [
    "training['Title_Name'].replace({'Mlle':'Miss','Mme':'Mrs',np.nan:'Others'},inplace=True)\n",
    "\n",
    "replacement = list(training['Title_Name'].value_counts().index[4:])\n",
    "new_value = ['Others' for x in replacement]\n",
    "\n",
    "training['Title_Name'].replace(to_replace=replacement,value=new_value,inplace=True)"
   ]
  },
  {
   "cell_type": "code",
   "execution_count": 44,
   "metadata": {},
   "outputs": [
    {
     "data": {
      "text/plain": [
       "Mr        517\n",
       "Miss      184\n",
       "Mrs       126\n",
       "Master     40\n",
       "Others     24\n",
       "Name: Title_Name, dtype: int64"
      ]
     },
     "execution_count": 44,
     "metadata": {},
     "output_type": "execute_result"
    }
   ],
   "source": [
    "training['Title_Name'].value_counts()"
   ]
  },
  {
   "cell_type": "markdown",
   "metadata": {},
   "source": [
    "## Outlier\n",
    "\n",
    "To remove or not to remove outliers? Firstly, we should differentiate between natural outliers and outilers that happened due to the mistake in the measurement or typographical errors. Of course, if we know that it is due to some mistakes, we should remove the outliers. If there are only a small proportion of outliers, we could also remove them. In this case, the fare outliers does not seem to be a mistake, and the number of outliers is significant. Hence, I will not be removing them. I will however keep the codes here for future use if required."
   ]
  },
  {
   "cell_type": "code",
   "execution_count": 45,
   "metadata": {},
   "outputs": [],
   "source": [
    "def remove_outliers(df,column:str,iqr_range=3):\n",
    "    '''\n",
    "    Remove outliers based in IQR, with default of any values outside 3 * IQR being removed\n",
    "\n",
    "    Returns the indices of the df for which the values in the column is < or > IQR*3 of the 25th and 75th percentile\n",
    "    \n",
    "    '''\n",
    "\n",
    "    percent_25 = np.percentile(df[column],25)\n",
    "    percent_75 = np.percentile(df[column],75)\n",
    "    IQR = percent_75 - percent_25\n",
    "\n",
    "    return df.loc[~((df[column]<(percent_25-iqr_range*IQR)) | (df[column]>(percent_75+iqr_range*IQR)))]\n"
   ]
  },
  {
   "cell_type": "markdown",
   "metadata": {},
   "source": [
    "## Fill NA values\n",
    "\n",
    "Age and Embarked columns consist of some NA values. We can fill NA values based on the median of the age and the value which appears the most from Embarked. Normally, filling of NA values happens after train-test-split to avoid using testing data, but in this case as the training data is separated, we are able to do it now. \n",
    "\n",
    "Let's make use of sklearn SimpleImputer for the filling of NA values"
   ]
  },
  {
   "cell_type": "code",
   "execution_count": 46,
   "metadata": {},
   "outputs": [],
   "source": [
    "from sklearn.impute import SimpleImputer"
   ]
  },
  {
   "cell_type": "code",
   "execution_count": 47,
   "metadata": {},
   "outputs": [],
   "source": [
    "imp_median = SimpleImputer(missing_values=np.nan,strategy='median',copy=False)\n",
    "imp_freq = SimpleImputer(missing_values=np.nan,strategy='most_frequent',copy=False)\n",
    "\n",
    "training['Age']=imp_median.fit_transform(training[['Age','Fare']])\n",
    "training['Embarked']=imp_freq.fit_transform(training[['Embarked']])"
   ]
  },
  {
   "cell_type": "markdown",
   "metadata": {},
   "source": [
    "## Treatment of test data\n",
    "\n",
    "We would need to transform and add in extra features (title) to the test data"
   ]
  },
  {
   "cell_type": "code",
   "execution_count": 48,
   "metadata": {},
   "outputs": [],
   "source": [
    "test['Title_Name']=test['Name'].str.extract(r',\\s(\\w+)\\.',flags=re.IGNORECASE)\n",
    "test['Title_Name'].replace({'Mlle':'Miss','Mme':'Mrs',np.nan:'Others'},inplace=True)\n",
    "\n",
    "replacement = list(test['Title_Name'].value_counts().index[4:])\n",
    "new_value = ['Others' for x in replacement]\n",
    "\n",
    "test['Title_Name'].replace(to_replace=replacement,value=new_value,inplace=True)"
   ]
  },
  {
   "cell_type": "markdown",
   "metadata": {},
   "source": [
    "## Feature selection, scaling and encoding\n",
    "\n",
    "Before deploying our ML models, we would still be required to perform scaling and encoding of the variables. Categorical variables, such as Sex, would need to be one-hot-encoded as many ML techniques, such as Logistics Regression, are sensitive to such variables. Models employing continouous variables, such as Fares, would also be better off if we scale the data down to scale, either via min-max scaling or Z-score scaling. \n",
    "\n",
    "We would be performing MinMaxScaling for Age, Fares and OneHotEncoding for Sex,Pclass,Embarked and Title_Name"
   ]
  },
  {
   "cell_type": "code",
   "execution_count": 49,
   "metadata": {},
   "outputs": [],
   "source": [
    "from sklearn.compose import ColumnTransformer\n",
    "from sklearn.preprocessing import OneHotEncoder,MinMaxScaler"
   ]
  },
  {
   "cell_type": "code",
   "execution_count": 50,
   "metadata": {},
   "outputs": [],
   "source": [
    "features_to_retain = ['Pclass', 'Sex', 'Age', 'SibSp', 'Parch', 'Fare','Embarked','Title_Name']\n",
    "labels = 'Survived'"
   ]
  },
  {
   "cell_type": "code",
   "execution_count": 51,
   "metadata": {},
   "outputs": [],
   "source": [
    "y_train = training[labels]\n",
    "x_train= training[features_to_retain]\n",
    "\n",
    "x_test= test[features_to_retain]"
   ]
  },
  {
   "cell_type": "code",
   "execution_count": 52,
   "metadata": {},
   "outputs": [],
   "source": [
    "#preprocessing pipeline\n",
    "\n",
    "preprocessor = ColumnTransformer(\n",
    "    [('categories',OneHotEncoder(),['Pclass','Sex','Embarked','Title_Name']),\n",
    "    ('continuous',MinMaxScaler(),['Age','Fare'])],\n",
    "    remainder='passthrough'\n",
    ")"
   ]
  },
  {
   "cell_type": "markdown",
   "metadata": {},
   "source": [
    "## Machine Learning Models\n",
    "\n",
    "We would run a series of classifiers, with using 10 iterations of RandomSearchCV for efficiency in hyperparameter tunings. The classifiers are:\n",
    "- Naive-Bayes\n",
    "- Logistic Regression\n",
    "- Decision Tree\n",
    "- Random Forest \n",
    "- Adaboost\n",
    "- Gradient Boost\n",
    "- XGBoost\n",
    "- SVM\n",
    "- Stacking model (based on Decision Tree, RF, Adaboost, GB, XGB, SVM and LR as the meta classifier)\n",
    "- Neural Network\n",
    "\n",
    "We would then compare the training metrics for these models as we do not have the testing labels."
   ]
  },
  {
   "cell_type": "code",
   "execution_count": 53,
   "metadata": {},
   "outputs": [],
   "source": [
    "from sklearn.pipeline import Pipeline,make_pipeline\n",
    "from sklearn.linear_model import LogisticRegression\n",
    "from sklearn.naive_bayes import MultinomialNB\n",
    "from sklearn import model_selection,metrics,ensemble\n",
    "from sklearn.tree import DecisionTreeClassifier\n",
    "from sklearn import metrics\n",
    "from sklearn import svm\n",
    "from xgboost import XGBClassifier"
   ]
  },
  {
   "cell_type": "code",
   "execution_count": 77,
   "metadata": {},
   "outputs": [],
   "source": [
    "model_params = {\n",
    "\n",
    "    #Multinomial Naive-Bayes\n",
    "    'MNB':{\n",
    "        'model': MultinomialNB(),\n",
    "        'params': {\n",
    "            'alpha':[0.01,0.1]\n",
    "            }\n",
    "    },\n",
    "\n",
    "    # Logistic Regression\n",
    "    'LogisticRegression': {\n",
    "        'model': LogisticRegression(),\n",
    "        'params': {\n",
    "            'penalty':['l1','l2'],\n",
    "            'solver':['liblinear','newton-cg','saga','ibfgs'],\n",
    "            'C':[0.0001,0.001,0.01,0.1,1],\n",
    "            'max_iter':[1000]\n",
    "        }\n",
    "    },\n",
    "    \n",
    "    # Decision Tree\n",
    "    'DT': {\n",
    "        'model': DecisionTreeClassifier(),\n",
    "        'params': {\n",
    "             'criterion':['gini','entropy','log_loss'],\n",
    "             'splitter':['best','random'],\n",
    "             'max_depth':[2,4,6,8,10],\n",
    "             'min_samples_split':[2,4,6],\n",
    "             'min_samples_leaf':[2,4,6],\n",
    "             'max_features':['sqrt','log2']\n",
    "        }\n",
    "    },\n",
    "\n",
    "    # Random Forest\n",
    "    'RandomForest': {\n",
    "        'model': ensemble.RandomForestClassifier(),\n",
    "        'params': {\n",
    "             'n_estimators':[50,100,150],\n",
    "             'criterion':['gini','entropy'],\n",
    "             'min_samples_split':[2,4,6,8,10],\n",
    "             'min_samples_leaf':[2,4,6],\n",
    "             'max_features':['sqrt','log2']\n",
    "        }\n",
    "    },\n",
    "\n",
    "    #Ada-boost\n",
    "    'Adaboost':{\n",
    "        'model':ensemble.AdaBoostClassifier(),\n",
    "        'params': {\n",
    "             'base_estimator':[DecisionTreeClassifier()],\n",
    "             'n_estimators':[50,100,150],\n",
    "             'learning_rate':[0.1,1],\n",
    "             'base_estimator__max_depth':[3,4,5],\n",
    "             'algorithm':['SAMME.R','SAMME']\n",
    "            }\n",
    "    },\n",
    "    \n",
    "    # GradientBoosting\n",
    "    'GradientBoosting': {\n",
    "        'model': ensemble.GradientBoostingClassifier(),\n",
    "        'params': {\n",
    "             'loss':['log_loss','exponential'],\n",
    "             'learning_rate':[0.01,0.1,1],\n",
    "             'n_estimators':[50,100,150],\n",
    "             'subsample':[0.1,0.5,1],\n",
    "             'min_samples_split':[2,10,20],\n",
    "             'min_samples_leaf':[1,5,10],\n",
    "             'max_depth':[3,5,10]\n",
    "        }\n",
    "    },\n",
    "\n",
    "    # XGBoost\n",
    "        'XGBoost': {\n",
    "            'model': XGBClassifier(),\n",
    "            'params': {\n",
    "                'n_estimators': [int(x) for x in np.linspace(100,2000,5)],\n",
    "                'learning_rate': [0.1, 0.3, 0.5, 0.7, 1.0]\n",
    "            }\n",
    "        },\n",
    "\n",
    "    # SVM\n",
    "        'SVM': {\n",
    "            'model': svm.SVC(),\n",
    "            'params': {\n",
    "                'C': [0.001,0.01,0.1,1],\n",
    "                'kernel': ['linear', 'poly','rbf']\n",
    "            }\n",
    "        }\n",
    "}"
   ]
  },
  {
   "cell_type": "code",
   "execution_count": 78,
   "metadata": {},
   "outputs": [],
   "source": [
    "models_to_tune = ['MNB','LogisticRegression','DT','RandomForest','Adaboost','GradientBoosting','XGBoost','SVM']"
   ]
  },
  {
   "cell_type": "code",
   "execution_count": 82,
   "metadata": {},
   "outputs": [],
   "source": [
    "NB = make_pipeline(preprocessor,\n",
    "    model_selection.RandomizedSearchCV(\n",
    "        estimator=model_params['Adaboost']['model'],\n",
    "        param_distributions=model_params['Adaboost']['params'],\n",
    "        n_iter=10,\n",
    "        scoring='accuracy',\n",
    "        random_state=2022,\n",
    "        verbose=1\n",
    "    )\n",
    ")\n"
   ]
  },
  {
   "cell_type": "code",
   "execution_count": 83,
   "metadata": {},
   "outputs": [
    {
     "name": "stdout",
     "output_type": "stream",
     "text": [
      "Fitting 5 folds for each of 10 candidates, totalling 50 fits\n"
     ]
    },
    {
     "data": {
      "text/html": [
       "<style>#sk-container-id-3 {color: black;background-color: white;}#sk-container-id-3 pre{padding: 0;}#sk-container-id-3 div.sk-toggleable {background-color: white;}#sk-container-id-3 label.sk-toggleable__label {cursor: pointer;display: block;width: 100%;margin-bottom: 0;padding: 0.3em;box-sizing: border-box;text-align: center;}#sk-container-id-3 label.sk-toggleable__label-arrow:before {content: \"▸\";float: left;margin-right: 0.25em;color: #696969;}#sk-container-id-3 label.sk-toggleable__label-arrow:hover:before {color: black;}#sk-container-id-3 div.sk-estimator:hover label.sk-toggleable__label-arrow:before {color: black;}#sk-container-id-3 div.sk-toggleable__content {max-height: 0;max-width: 0;overflow: hidden;text-align: left;background-color: #f0f8ff;}#sk-container-id-3 div.sk-toggleable__content pre {margin: 0.2em;color: black;border-radius: 0.25em;background-color: #f0f8ff;}#sk-container-id-3 input.sk-toggleable__control:checked~div.sk-toggleable__content {max-height: 200px;max-width: 100%;overflow: auto;}#sk-container-id-3 input.sk-toggleable__control:checked~label.sk-toggleable__label-arrow:before {content: \"▾\";}#sk-container-id-3 div.sk-estimator input.sk-toggleable__control:checked~label.sk-toggleable__label {background-color: #d4ebff;}#sk-container-id-3 div.sk-label input.sk-toggleable__control:checked~label.sk-toggleable__label {background-color: #d4ebff;}#sk-container-id-3 input.sk-hidden--visually {border: 0;clip: rect(1px 1px 1px 1px);clip: rect(1px, 1px, 1px, 1px);height: 1px;margin: -1px;overflow: hidden;padding: 0;position: absolute;width: 1px;}#sk-container-id-3 div.sk-estimator {font-family: monospace;background-color: #f0f8ff;border: 1px dotted black;border-radius: 0.25em;box-sizing: border-box;margin-bottom: 0.5em;}#sk-container-id-3 div.sk-estimator:hover {background-color: #d4ebff;}#sk-container-id-3 div.sk-parallel-item::after {content: \"\";width: 100%;border-bottom: 1px solid gray;flex-grow: 1;}#sk-container-id-3 div.sk-label:hover label.sk-toggleable__label {background-color: #d4ebff;}#sk-container-id-3 div.sk-serial::before {content: \"\";position: absolute;border-left: 1px solid gray;box-sizing: border-box;top: 0;bottom: 0;left: 50%;z-index: 0;}#sk-container-id-3 div.sk-serial {display: flex;flex-direction: column;align-items: center;background-color: white;padding-right: 0.2em;padding-left: 0.2em;position: relative;}#sk-container-id-3 div.sk-item {position: relative;z-index: 1;}#sk-container-id-3 div.sk-parallel {display: flex;align-items: stretch;justify-content: center;background-color: white;position: relative;}#sk-container-id-3 div.sk-item::before, #sk-container-id-3 div.sk-parallel-item::before {content: \"\";position: absolute;border-left: 1px solid gray;box-sizing: border-box;top: 0;bottom: 0;left: 50%;z-index: -1;}#sk-container-id-3 div.sk-parallel-item {display: flex;flex-direction: column;z-index: 1;position: relative;background-color: white;}#sk-container-id-3 div.sk-parallel-item:first-child::after {align-self: flex-end;width: 50%;}#sk-container-id-3 div.sk-parallel-item:last-child::after {align-self: flex-start;width: 50%;}#sk-container-id-3 div.sk-parallel-item:only-child::after {width: 0;}#sk-container-id-3 div.sk-dashed-wrapped {border: 1px dashed gray;margin: 0 0.4em 0.5em 0.4em;box-sizing: border-box;padding-bottom: 0.4em;background-color: white;}#sk-container-id-3 div.sk-label label {font-family: monospace;font-weight: bold;display: inline-block;line-height: 1.2em;}#sk-container-id-3 div.sk-label-container {text-align: center;}#sk-container-id-3 div.sk-container {/* jupyter's `normalize.less` sets `[hidden] { display: none; }` but bootstrap.min.css set `[hidden] { display: none !important; }` so we also need the `!important` here to be able to override the default hidden behavior on the sphinx rendered scikit-learn.org. See: https://github.com/scikit-learn/scikit-learn/issues/21755 */display: inline-block !important;position: relative;}#sk-container-id-3 div.sk-text-repr-fallback {display: none;}</style><div id=\"sk-container-id-3\" class=\"sk-top-container\"><div class=\"sk-text-repr-fallback\"><pre>Pipeline(steps=[(&#x27;columntransformer&#x27;,\n",
       "                 ColumnTransformer(remainder=&#x27;passthrough&#x27;,\n",
       "                                   transformers=[(&#x27;categories&#x27;, OneHotEncoder(),\n",
       "                                                  [&#x27;Pclass&#x27;, &#x27;Sex&#x27;, &#x27;Embarked&#x27;,\n",
       "                                                   &#x27;Title_Name&#x27;]),\n",
       "                                                 (&#x27;continuous&#x27;, MinMaxScaler(),\n",
       "                                                  [&#x27;Age&#x27;, &#x27;Fare&#x27;])])),\n",
       "                (&#x27;randomizedsearchcv&#x27;,\n",
       "                 RandomizedSearchCV(estimator=AdaBoostClassifier(),\n",
       "                                    param_distributions={&#x27;algorithm&#x27;: [&#x27;SAMME.R&#x27;,\n",
       "                                                                       &#x27;SAMME&#x27;],\n",
       "                                                         &#x27;base_estimator&#x27;: [DecisionTreeClassifier(max_depth=4)],\n",
       "                                                         &#x27;base_estimator__max_depth&#x27;: [3,\n",
       "                                                                                       4,\n",
       "                                                                                       5],\n",
       "                                                         &#x27;learning_rate&#x27;: [0.1,\n",
       "                                                                           1],\n",
       "                                                         &#x27;n_estimators&#x27;: [50,\n",
       "                                                                          100,\n",
       "                                                                          150]},\n",
       "                                    random_state=2022, scoring=&#x27;accuracy&#x27;,\n",
       "                                    verbose=1))])</pre><b>In a Jupyter environment, please rerun this cell to show the HTML representation or trust the notebook. <br />On GitHub, the HTML representation is unable to render, please try loading this page with nbviewer.org.</b></div><div class=\"sk-container\" hidden><div class=\"sk-item sk-dashed-wrapped\"><div class=\"sk-label-container\"><div class=\"sk-label sk-toggleable\"><input class=\"sk-toggleable__control sk-hidden--visually\" id=\"sk-estimator-id-23\" type=\"checkbox\" ><label for=\"sk-estimator-id-23\" class=\"sk-toggleable__label sk-toggleable__label-arrow\">Pipeline</label><div class=\"sk-toggleable__content\"><pre>Pipeline(steps=[(&#x27;columntransformer&#x27;,\n",
       "                 ColumnTransformer(remainder=&#x27;passthrough&#x27;,\n",
       "                                   transformers=[(&#x27;categories&#x27;, OneHotEncoder(),\n",
       "                                                  [&#x27;Pclass&#x27;, &#x27;Sex&#x27;, &#x27;Embarked&#x27;,\n",
       "                                                   &#x27;Title_Name&#x27;]),\n",
       "                                                 (&#x27;continuous&#x27;, MinMaxScaler(),\n",
       "                                                  [&#x27;Age&#x27;, &#x27;Fare&#x27;])])),\n",
       "                (&#x27;randomizedsearchcv&#x27;,\n",
       "                 RandomizedSearchCV(estimator=AdaBoostClassifier(),\n",
       "                                    param_distributions={&#x27;algorithm&#x27;: [&#x27;SAMME.R&#x27;,\n",
       "                                                                       &#x27;SAMME&#x27;],\n",
       "                                                         &#x27;base_estimator&#x27;: [DecisionTreeClassifier(max_depth=4)],\n",
       "                                                         &#x27;base_estimator__max_depth&#x27;: [3,\n",
       "                                                                                       4,\n",
       "                                                                                       5],\n",
       "                                                         &#x27;learning_rate&#x27;: [0.1,\n",
       "                                                                           1],\n",
       "                                                         &#x27;n_estimators&#x27;: [50,\n",
       "                                                                          100,\n",
       "                                                                          150]},\n",
       "                                    random_state=2022, scoring=&#x27;accuracy&#x27;,\n",
       "                                    verbose=1))])</pre></div></div></div><div class=\"sk-serial\"><div class=\"sk-item sk-dashed-wrapped\"><div class=\"sk-label-container\"><div class=\"sk-label sk-toggleable\"><input class=\"sk-toggleable__control sk-hidden--visually\" id=\"sk-estimator-id-24\" type=\"checkbox\" ><label for=\"sk-estimator-id-24\" class=\"sk-toggleable__label sk-toggleable__label-arrow\">columntransformer: ColumnTransformer</label><div class=\"sk-toggleable__content\"><pre>ColumnTransformer(remainder=&#x27;passthrough&#x27;,\n",
       "                  transformers=[(&#x27;categories&#x27;, OneHotEncoder(),\n",
       "                                 [&#x27;Pclass&#x27;, &#x27;Sex&#x27;, &#x27;Embarked&#x27;, &#x27;Title_Name&#x27;]),\n",
       "                                (&#x27;continuous&#x27;, MinMaxScaler(),\n",
       "                                 [&#x27;Age&#x27;, &#x27;Fare&#x27;])])</pre></div></div></div><div class=\"sk-parallel\"><div class=\"sk-parallel-item\"><div class=\"sk-item\"><div class=\"sk-label-container\"><div class=\"sk-label sk-toggleable\"><input class=\"sk-toggleable__control sk-hidden--visually\" id=\"sk-estimator-id-25\" type=\"checkbox\" ><label for=\"sk-estimator-id-25\" class=\"sk-toggleable__label sk-toggleable__label-arrow\">categories</label><div class=\"sk-toggleable__content\"><pre>[&#x27;Pclass&#x27;, &#x27;Sex&#x27;, &#x27;Embarked&#x27;, &#x27;Title_Name&#x27;]</pre></div></div></div><div class=\"sk-serial\"><div class=\"sk-item\"><div class=\"sk-estimator sk-toggleable\"><input class=\"sk-toggleable__control sk-hidden--visually\" id=\"sk-estimator-id-26\" type=\"checkbox\" ><label for=\"sk-estimator-id-26\" class=\"sk-toggleable__label sk-toggleable__label-arrow\">OneHotEncoder</label><div class=\"sk-toggleable__content\"><pre>OneHotEncoder()</pre></div></div></div></div></div></div><div class=\"sk-parallel-item\"><div class=\"sk-item\"><div class=\"sk-label-container\"><div class=\"sk-label sk-toggleable\"><input class=\"sk-toggleable__control sk-hidden--visually\" id=\"sk-estimator-id-27\" type=\"checkbox\" ><label for=\"sk-estimator-id-27\" class=\"sk-toggleable__label sk-toggleable__label-arrow\">continuous</label><div class=\"sk-toggleable__content\"><pre>[&#x27;Age&#x27;, &#x27;Fare&#x27;]</pre></div></div></div><div class=\"sk-serial\"><div class=\"sk-item\"><div class=\"sk-estimator sk-toggleable\"><input class=\"sk-toggleable__control sk-hidden--visually\" id=\"sk-estimator-id-28\" type=\"checkbox\" ><label for=\"sk-estimator-id-28\" class=\"sk-toggleable__label sk-toggleable__label-arrow\">MinMaxScaler</label><div class=\"sk-toggleable__content\"><pre>MinMaxScaler()</pre></div></div></div></div></div></div><div class=\"sk-parallel-item\"><div class=\"sk-item\"><div class=\"sk-label-container\"><div class=\"sk-label sk-toggleable\"><input class=\"sk-toggleable__control sk-hidden--visually\" id=\"sk-estimator-id-29\" type=\"checkbox\" ><label for=\"sk-estimator-id-29\" class=\"sk-toggleable__label sk-toggleable__label-arrow\">remainder</label><div class=\"sk-toggleable__content\"><pre>[&#x27;SibSp&#x27;, &#x27;Parch&#x27;]</pre></div></div></div><div class=\"sk-serial\"><div class=\"sk-item\"><div class=\"sk-estimator sk-toggleable\"><input class=\"sk-toggleable__control sk-hidden--visually\" id=\"sk-estimator-id-30\" type=\"checkbox\" ><label for=\"sk-estimator-id-30\" class=\"sk-toggleable__label sk-toggleable__label-arrow\">passthrough</label><div class=\"sk-toggleable__content\"><pre>passthrough</pre></div></div></div></div></div></div></div></div><div class=\"sk-item sk-dashed-wrapped\"><div class=\"sk-label-container\"><div class=\"sk-label sk-toggleable\"><input class=\"sk-toggleable__control sk-hidden--visually\" id=\"sk-estimator-id-31\" type=\"checkbox\" ><label for=\"sk-estimator-id-31\" class=\"sk-toggleable__label sk-toggleable__label-arrow\">randomizedsearchcv: RandomizedSearchCV</label><div class=\"sk-toggleable__content\"><pre>RandomizedSearchCV(estimator=AdaBoostClassifier(),\n",
       "                   param_distributions={&#x27;algorithm&#x27;: [&#x27;SAMME.R&#x27;, &#x27;SAMME&#x27;],\n",
       "                                        &#x27;base_estimator&#x27;: [DecisionTreeClassifier(max_depth=4)],\n",
       "                                        &#x27;base_estimator__max_depth&#x27;: [3, 4, 5],\n",
       "                                        &#x27;learning_rate&#x27;: [0.1, 1],\n",
       "                                        &#x27;n_estimators&#x27;: [50, 100, 150]},\n",
       "                   random_state=2022, scoring=&#x27;accuracy&#x27;, verbose=1)</pre></div></div></div><div class=\"sk-parallel\"><div class=\"sk-parallel-item\"><div class=\"sk-item\"><div class=\"sk-label-container\"><div class=\"sk-label sk-toggleable\"><input class=\"sk-toggleable__control sk-hidden--visually\" id=\"sk-estimator-id-32\" type=\"checkbox\" ><label for=\"sk-estimator-id-32\" class=\"sk-toggleable__label sk-toggleable__label-arrow\">estimator: AdaBoostClassifier</label><div class=\"sk-toggleable__content\"><pre>AdaBoostClassifier()</pre></div></div></div><div class=\"sk-serial\"><div class=\"sk-item\"><div class=\"sk-estimator sk-toggleable\"><input class=\"sk-toggleable__control sk-hidden--visually\" id=\"sk-estimator-id-33\" type=\"checkbox\" ><label for=\"sk-estimator-id-33\" class=\"sk-toggleable__label sk-toggleable__label-arrow\">AdaBoostClassifier</label><div class=\"sk-toggleable__content\"><pre>AdaBoostClassifier()</pre></div></div></div></div></div></div></div></div></div></div></div></div>"
      ],
      "text/plain": [
       "Pipeline(steps=[('columntransformer',\n",
       "                 ColumnTransformer(remainder='passthrough',\n",
       "                                   transformers=[('categories', OneHotEncoder(),\n",
       "                                                  ['Pclass', 'Sex', 'Embarked',\n",
       "                                                   'Title_Name']),\n",
       "                                                 ('continuous', MinMaxScaler(),\n",
       "                                                  ['Age', 'Fare'])])),\n",
       "                ('randomizedsearchcv',\n",
       "                 RandomizedSearchCV(estimator=AdaBoostClassifier(),\n",
       "                                    param_distributions={'algorithm': ['SAMME.R',\n",
       "                                                                       'SAMME'],\n",
       "                                                         'base_estimator': [DecisionTreeClassifier(max_depth=4)],\n",
       "                                                         'base_estimator__max_depth': [3,\n",
       "                                                                                       4,\n",
       "                                                                                       5],\n",
       "                                                         'learning_rate': [0.1,\n",
       "                                                                           1],\n",
       "                                                         'n_estimators': [50,\n",
       "                                                                          100,\n",
       "                                                                          150]},\n",
       "                                    random_state=2022, scoring='accuracy',\n",
       "                                    verbose=1))])"
      ]
     },
     "execution_count": 83,
     "metadata": {},
     "output_type": "execute_result"
    }
   ],
   "source": [
    "NB.fit(x_train,y_train)"
   ]
  },
  {
   "cell_type": "code",
   "execution_count": null,
   "metadata": {},
   "outputs": [],
   "source": [
    "predictions = NB.predict(x_train)"
   ]
  },
  {
   "cell_type": "code",
   "execution_count": null,
   "metadata": {},
   "outputs": [],
   "source": [
    "metrics.f1_score(predictions,y_train)"
   ]
  },
  {
   "cell_type": "code",
   "execution_count": null,
   "metadata": {},
   "outputs": [],
   "source": [
    "print(metrics.classification_report(y_train,predictions))"
   ]
  },
  {
   "cell_type": "code",
   "execution_count": null,
   "metadata": {},
   "outputs": [],
   "source": [
    "tn, fp, fn, tp=metrics.confusion_matrix(y_train,predictions).ravel()\n",
    "(tn, fp, fn, tp)"
   ]
  },
  {
   "cell_type": "code",
   "execution_count": null,
   "metadata": {},
   "outputs": [],
   "source": [
    "metrics.confusion_matrix(y_train,predictions)"
   ]
  },
  {
   "cell_type": "code",
   "execution_count": null,
   "metadata": {},
   "outputs": [],
   "source": []
  }
 ],
 "metadata": {
  "kernelspec": {
   "display_name": "Python 3 (ipykernel)",
   "language": "python",
   "name": "python3"
  },
  "language_info": {
   "codemirror_mode": {
    "name": "ipython",
    "version": 3
   },
   "file_extension": ".py",
   "mimetype": "text/x-python",
   "name": "python",
   "nbconvert_exporter": "python",
   "pygments_lexer": "ipython3",
   "version": "3.9.12"
  },
  "vscode": {
   "interpreter": {
    "hash": "19d1d53a962d236aa061289c2ac16dc8e6d9648c89fe79f459ae9a3493bc67b4"
   }
  }
 },
 "nbformat": 4,
 "nbformat_minor": 2
}
